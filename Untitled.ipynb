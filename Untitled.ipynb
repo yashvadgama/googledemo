{
 "cells": [
  {
   "cell_type": "code",
   "execution_count": 1,
   "id": "f97a8f84",
   "metadata": {},
   "outputs": [],
   "source": [
    "import pandas as pd\n",
    "import matplotlib.pyplot as plt\n",
    "import numpy as np\n",
    "%matplotlib notebook"
   ]
  },
  {
   "cell_type": "code",
   "execution_count": 3,
   "id": "ec11749b",
   "metadata": {},
   "outputs": [
    {
     "data": {
      "text/html": [
       "<div>\n",
       "<style scoped>\n",
       "    .dataframe tbody tr th:only-of-type {\n",
       "        vertical-align: middle;\n",
       "    }\n",
       "\n",
       "    .dataframe tbody tr th {\n",
       "        vertical-align: top;\n",
       "    }\n",
       "\n",
       "    .dataframe thead th {\n",
       "        text-align: right;\n",
       "    }\n",
       "</style>\n",
       "<table border=\"1\" class=\"dataframe\">\n",
       "  <thead>\n",
       "    <tr style=\"text-align: right;\">\n",
       "      <th></th>\n",
       "      <th>Name</th>\n",
       "      <th>Age</th>\n",
       "    </tr>\n",
       "  </thead>\n",
       "  <tbody>\n",
       "    <tr>\n",
       "      <th>0</th>\n",
       "      <td>yash1</td>\n",
       "      <td>12</td>\n",
       "    </tr>\n",
       "    <tr>\n",
       "      <th>1</th>\n",
       "      <td>gopi2</td>\n",
       "      <td>33</td>\n",
       "    </tr>\n",
       "    <tr>\n",
       "      <th>2</th>\n",
       "      <td>asshutosh3</td>\n",
       "      <td>20</td>\n",
       "    </tr>\n",
       "    <tr>\n",
       "      <th>3</th>\n",
       "      <td>deep4</td>\n",
       "      <td>60</td>\n",
       "    </tr>\n",
       "    <tr>\n",
       "      <th>4</th>\n",
       "      <td>ankit5</td>\n",
       "      <td>12</td>\n",
       "    </tr>\n",
       "    <tr>\n",
       "      <th>5</th>\n",
       "      <td>yash2</td>\n",
       "      <td>3</td>\n",
       "    </tr>\n",
       "    <tr>\n",
       "      <th>6</th>\n",
       "      <td>gopi3</td>\n",
       "      <td>6</td>\n",
       "    </tr>\n",
       "    <tr>\n",
       "      <th>7</th>\n",
       "      <td>asshutosh4</td>\n",
       "      <td>40</td>\n",
       "    </tr>\n",
       "    <tr>\n",
       "      <th>8</th>\n",
       "      <td>deep5</td>\n",
       "      <td>60</td>\n",
       "    </tr>\n",
       "    <tr>\n",
       "      <th>9</th>\n",
       "      <td>ankit6</td>\n",
       "      <td>70</td>\n",
       "    </tr>\n",
       "    <tr>\n",
       "      <th>10</th>\n",
       "      <td>yash3</td>\n",
       "      <td>20</td>\n",
       "    </tr>\n",
       "    <tr>\n",
       "      <th>11</th>\n",
       "      <td>gopi4</td>\n",
       "      <td>10</td>\n",
       "    </tr>\n",
       "    <tr>\n",
       "      <th>12</th>\n",
       "      <td>asshutosh5</td>\n",
       "      <td>30</td>\n",
       "    </tr>\n",
       "    <tr>\n",
       "      <th>13</th>\n",
       "      <td>deep6</td>\n",
       "      <td>50</td>\n",
       "    </tr>\n",
       "    <tr>\n",
       "      <th>14</th>\n",
       "      <td>ankit7</td>\n",
       "      <td>60</td>\n",
       "    </tr>\n",
       "  </tbody>\n",
       "</table>\n",
       "</div>"
      ],
      "text/plain": [
       "          Name  Age\n",
       "0        yash1   12\n",
       "1        gopi2   33\n",
       "2   asshutosh3   20\n",
       "3        deep4   60\n",
       "4       ankit5   12\n",
       "5        yash2    3\n",
       "6        gopi3    6\n",
       "7   asshutosh4   40\n",
       "8        deep5   60\n",
       "9       ankit6   70\n",
       "10       yash3   20\n",
       "11       gopi4   10\n",
       "12  asshutosh5   30\n",
       "13       deep6   50\n",
       "14      ankit7   60"
      ]
     },
     "execution_count": 3,
     "metadata": {},
     "output_type": "execute_result"
    }
   ],
   "source": [
    "df1 = pd.read_csv('Age.csv')\n",
    "df1\n"
   ]
  },
  {
   "cell_type": "code",
   "execution_count": 5,
   "id": "9c14dd16",
   "metadata": {},
   "outputs": [
    {
     "data": {
      "text/plain": [
       "0     12\n",
       "1     33\n",
       "2     20\n",
       "3     60\n",
       "4     12\n",
       "5      3\n",
       "6      6\n",
       "7     40\n",
       "8     60\n",
       "9     70\n",
       "10    20\n",
       "11    10\n",
       "12    30\n",
       "13    50\n",
       "14    60\n",
       "Name: Age, dtype: int64"
      ]
     },
     "execution_count": 5,
     "metadata": {},
     "output_type": "execute_result"
    }
   ],
   "source": [
    "df2=df1.Age\n",
    "df2"
   ]
  },
  {
   "cell_type": "code",
   "execution_count": 6,
   "id": "f71b67f0",
   "metadata": {},
   "outputs": [
    {
     "data": {
      "text/plain": [
       "5      3\n",
       "6      6\n",
       "11    10\n",
       "0     12\n",
       "4     12\n",
       "2     20\n",
       "10    20\n",
       "12    30\n",
       "1     33\n",
       "7     40\n",
       "13    50\n",
       "3     60\n",
       "8     60\n",
       "14    60\n",
       "9     70\n",
       "Name: Age, dtype: int64"
      ]
     },
     "execution_count": 6,
     "metadata": {},
     "output_type": "execute_result"
    }
   ],
   "source": [
    "df5=df2.sort_values()\n",
    "df5"
   ]
  },
  {
   "cell_type": "code",
   "execution_count": 7,
   "id": "7c5ea92b",
   "metadata": {},
   "outputs": [
    {
     "data": {
      "text/plain": [
       "5     0.000000\n",
       "6     0.044776\n",
       "11    0.104478\n",
       "0     0.134328\n",
       "4     0.134328\n",
       "2     0.253731\n",
       "10    0.253731\n",
       "12    0.402985\n",
       "1     0.447761\n",
       "7     0.552239\n",
       "13    0.701493\n",
       "3     0.850746\n",
       "8     0.850746\n",
       "14    0.850746\n",
       "9     1.000000\n",
       "Name: Age, dtype: float64"
      ]
     },
     "execution_count": 7,
     "metadata": {},
     "output_type": "execute_result"
    }
   ],
   "source": [
    "df6=(df5-df5.min())/(df5.max()-df5.min())\n",
    "df6"
   ]
  },
  {
   "cell_type": "code",
   "execution_count": 8,
   "id": "7715b4e8",
   "metadata": {},
   "outputs": [
    {
     "data": {
      "text/plain": [
       "5    -1.289665\n",
       "6    -1.158067\n",
       "11   -0.982602\n",
       "0    -0.894870\n",
       "4    -0.894870\n",
       "2    -0.543940\n",
       "10   -0.543940\n",
       "12   -0.105279\n",
       "1     0.026320\n",
       "7     0.333383\n",
       "13    0.772044\n",
       "3     1.210706\n",
       "8     1.210706\n",
       "14    1.210706\n",
       "9     1.649368\n",
       "Name: Age, dtype: float64"
      ]
     },
     "execution_count": 8,
     "metadata": {},
     "output_type": "execute_result"
    }
   ],
   "source": [
    "df7=(df5-df5.mean())/df5.std()\n",
    "df7"
   ]
  }
 ],
 "metadata": {
  "kernelspec": {
   "display_name": "Python 3 (ipykernel)",
   "language": "python",
   "name": "python3"
  },
  "language_info": {
   "codemirror_mode": {
    "name": "ipython",
    "version": 3
   },
   "file_extension": ".py",
   "mimetype": "text/x-python",
   "name": "python",
   "nbconvert_exporter": "python",
   "pygments_lexer": "ipython3",
   "version": "3.9.12"
  }
 },
 "nbformat": 4,
 "nbformat_minor": 5
}
